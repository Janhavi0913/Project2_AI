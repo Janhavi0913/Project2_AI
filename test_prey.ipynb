{
 "cells": [
  {
   "cell_type": "code",
   "execution_count": 2,
   "metadata": {},
   "outputs": [],
   "source": [
    "import matplotlib as plt \n",
    "import numpy as np \n",
    "from matplotlib import colors\n",
    "from PIL import Image, ImageDraw\n",
    "import random\n",
    "import pandas as pd\n",
    "from collections import defaultdict\n",
    "import random\n",
    "import copy"
   ]
  },
  {
   "cell_type": "code",
   "execution_count": 3,
   "metadata": {},
   "outputs": [
    {
     "name": "stdout",
     "output_type": "stream",
     "text": [
      "{1: [2, 50, 48], 2: [3, 1, 4], 3: [4, 2, 50], 4: [5, 3, 2], 5: [6, 4, 10], 6: [7, 5, 9], 7: [8, 6, 12], 8: [9, 7, 13], 9: [10, 8, 6], 10: [11, 9, 5], 11: [12, 10, 14], 12: [13, 11, 7], 13: [14, 12, 8], 14: [15, 13, 11], 15: [16, 14, 17], 16: [17, 15, 20], 17: [18, 16, 15], 18: [19, 17, 23], 19: [20, 18, 21], 20: [21, 19, 16], 21: [22, 20, 19], 22: [23, 21, 24], 23: [24, 22, 18], 24: [25, 23, 22], 25: [26, 24, 27], 26: [27, 25, 29], 27: [28, 26, 25], 28: [29, 27], 29: [30, 28, 26], 30: [31, 29, 32], 31: [32, 30, 33], 32: [33, 31, 30], 33: [34, 32, 31], 34: [35, 33, 38], 35: [36, 34, 37], 36: [37, 35, 40], 37: [38, 36, 35], 38: [39, 37, 34], 39: [40, 38, 42], 40: [41, 39, 36], 41: [42, 40, 44], 42: [43, 41, 39], 43: [44, 42, 47], 44: [45, 43, 41], 45: [46, 44], 46: [47, 45, 49], 47: [48, 46, 43], 48: [49, 47, 1], 49: [50, 48, 46], 50: [1, 49, 3]}\n",
      "[1, 2, 3, 4, 5, 6, 7, 8, 9, 10, 11, 12, 13, 14, 15, 16, 17, 18, 19, 20, 21, 22, 23, 24, 25, 26, 27, 28, 29, 30, 31, 32, 33, 34, 35, 36, 37, 38, 39, 40, 41, 42, 43, 44, 45, 46, 47, 48, 49, 50]\n"
     ]
    }
   ],
   "source": [
    "graph = {1: [2, 50, 48], 2: [3, 1, 4], 3: [4, 2, 50], 4: [5, 3, 2], 5: [6, 4, 10], 6: [7, 5, 9], 7: [8, 6, 12], 8: [9, 7, 13], 9: [10, 8, 6], 10: [11, 9, 5], 11: [12, 10, 14], 12: [13, 11, 7], 13: [14, 12, 8], 14: [15, 13, 11], 15: [16, 14, 17], 16: [17, 15, 20], 17: [18, 16, 15], 18: [19, 17, 23], 19: [20, 18, 21], 20: [21, 19, 16], 21: [22, 20, 19], 22: [23, 21, 24], 23: [24, 22, 18], 24: [25, 23, 22], 25: [26, 24, 27], 26: [27, 25, 29], 27: [28, 26, 25], 28: [29, 27], 29: [30, 28, 26], 30: [31, 29, 32], 31: [32, 30, 33], 32: [33, 31, 30], 33: [34, 32, 31], 34: [35, 33, 38], 35: [36, 34, 37], 36: [37, 35, 40], 37: [38, 36, 35], 38: [39, 37, 34], 39: [40, 38, 42], 40: [41, 39, 36], 41: [42, 40, 44], 42: [43, 41, 39], 43: [44, 42, 47], 44: [45, 43, 41], 45: [46, 44], 46: [47, 45, 49], 47: [48, 46, 43], 48: [49, 47, 1], 49: [50, 48, 46], 50: [1, 49, 3]}\n",
    "print(graph)\n",
    "nodes_list = []\n",
    "for i in range(1,51):\n",
    "    nodes_list.append(i)\n",
    "print(nodes_list)\n",
    "\n"
   ]
  },
  {
   "cell_type": "code",
   "execution_count": 5,
   "metadata": {},
   "outputs": [
    {
     "name": "stdout",
     "output_type": "stream",
     "text": [
      "39\n",
      "37\n",
      "[39, 40, 38, 42]\n",
      "39\n",
      "[39, 40, 38, 42]\n",
      "39\n",
      "[39, 40, 38, 42]\n",
      "40\n",
      "[40, 41, 39, 36]\n",
      "41\n",
      "[41, 42, 40, 44]\n",
      "41\n",
      "[41, 42, 40, 44]\n",
      "42\n",
      "[42, 43, 41, 39]\n",
      "39\n",
      "[39, 40, 38, 42]\n",
      "39\n",
      "[39, 40, 38, 42]\n",
      "39\n",
      "[39, 40, 38, 42]\n",
      "38\n",
      "[38, 39, 37, 34]\n",
      "37\n",
      "Agent met prey\n"
     ]
    }
   ],
   "source": [
    "agent_loc = random.choice(nodes_list)\n",
    "prey_loc = random.choice(nodes_list)\n",
    "while prey_loc == agent_loc:\n",
    "    prey_loc = random.choice(nodes_list)\n",
    "print(prey_loc)\n",
    "print(agent_loc)\n",
    "while prey_loc != agent_loc:\n",
    "    prey_loc_neighbours = [prey_loc]\n",
    "    for i in graph[prey_loc]:\n",
    "        prey_loc_neighbours.append(i)\n",
    "    print(prey_loc_neighbours)\n",
    "    prey_loc = random.choice(prey_loc_neighbours)\n",
    "    print(prey_loc)\n",
    "print(\"Agent met prey\")"
   ]
  },
  {
   "cell_type": "code",
   "execution_count": null,
   "metadata": {},
   "outputs": [],
   "source": []
  }
 ],
 "metadata": {
  "kernelspec": {
   "display_name": "Python 3.7.9 64-bit",
   "language": "python",
   "name": "python3"
  },
  "language_info": {
   "codemirror_mode": {
    "name": "ipython",
    "version": 3
   },
   "file_extension": ".py",
   "mimetype": "text/x-python",
   "name": "python",
   "nbconvert_exporter": "python",
   "pygments_lexer": "ipython3",
   "version": "3.7.9"
  },
  "orig_nbformat": 4,
  "vscode": {
   "interpreter": {
    "hash": "ae29fcfd9f255b8a51a223fdbafa9bf003a656bad6efeac0214af2ca8c231db5"
   }
  }
 },
 "nbformat": 4,
 "nbformat_minor": 2
}
