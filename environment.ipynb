{
 "cells": [
  {
   "cell_type": "code",
   "execution_count": 2,
   "metadata": {},
   "outputs": [],
   "source": [
    "import numpy as np"
   ]
  },
  {
   "cell_type": "code",
   "execution_count": 2,
   "metadata": {},
   "outputs": [],
   "source": [
    "#for i in range(50):\n",
    "    "
   ]
  },
  {
   "cell_type": "code",
   "execution_count": 3,
   "metadata": {},
   "outputs": [
    {
     "name": "stdout",
     "output_type": "stream",
     "text": [
      "{'A': ['B', 'C'], 'B': ['C', 'D'], 'C': ['D'], 'D': ['C'], 'E': ['F'], 'F': ['C']}\n"
     ]
    }
   ],
   "source": [
    "graph = {'A': ['B', 'C'],\n",
    "             'B': ['C', 'D'],\n",
    "             'C': ['D'],\n",
    "             'D': ['C'],\n",
    "             'E': ['F'],\n",
    "             'F': ['C']}\n",
    "print(graph)"
   ]
  },
  {
   "cell_type": "code",
   "execution_count": 7,
   "metadata": {},
   "outputs": [
    {
     "name": "stdout",
     "output_type": "stream",
     "text": [
      "{1: [2, 50], 2: [3, 1], 3: [4, 2], 4: [5, 3], 5: [6, 4], 6: [7, 5], 7: [8, 6], 8: [9, 7], 9: [10, 8], 10: [11, 9], 11: [12, 10], 12: [13, 11], 13: [14, 12], 14: [15, 13], 15: [16, 14], 16: [17, 15], 17: [18, 16], 18: [19, 17], 19: [20, 18], 20: [21, 19], 21: [22, 20], 22: [23, 21], 23: [24, 22], 24: [25, 23], 25: [26, 24], 26: [27, 25], 27: [28, 26], 28: [29, 27], 29: [30, 28], 30: [31, 29], 31: [32, 30], 32: [33, 31], 33: [34, 32], 34: [35, 33], 35: [36, 34], 36: [37, 35], 37: [38, 36], 38: [39, 37], 39: [40, 38], 40: [41, 39], 41: [42, 40], 42: [43, 41], 43: [44, 42], 44: [45, 43], 45: [46, 44], 46: [47, 45], 47: [48, 46], 48: [49, 47], 49: [50, 48], 50: [1, 49]}\n"
     ]
    }
   ],
   "source": [
    "game_arena = {}\n",
    "for i in range(1,51):\n",
    "    if i-1 == 0:\n",
    "        game_arena[i] = [2, 50]\n",
    "    elif i+1 == 51:\n",
    "        game_arena[i] = [1, 49]\n",
    "    else:\n",
    "        game_arena[i] = [i+1, i-1]\n",
    "print(game_arena)\n",
    "\n"
   ]
  },
  {
   "cell_type": "code",
   "execution_count": 8,
   "metadata": {},
   "outputs": [
    {
     "name": "stdout",
     "output_type": "stream",
     "text": [
      "[6, 4]\n"
     ]
    }
   ],
   "source": [
    "print(game_arena[5])"
   ]
  },
  {
   "cell_type": "code",
   "execution_count": null,
   "metadata": {},
   "outputs": [],
   "source": []
  }
 ],
 "metadata": {
  "kernelspec": {
   "display_name": "Python 3.7.9 64-bit",
   "language": "python",
   "name": "python3"
  },
  "language_info": {
   "codemirror_mode": {
    "name": "ipython",
    "version": 3
   },
   "file_extension": ".py",
   "mimetype": "text/x-python",
   "name": "python",
   "nbconvert_exporter": "python",
   "pygments_lexer": "ipython3",
   "version": "3.7.9"
  },
  "orig_nbformat": 4,
  "vscode": {
   "interpreter": {
    "hash": "ae29fcfd9f255b8a51a223fdbafa9bf003a656bad6efeac0214af2ca8c231db5"
   }
  }
 },
 "nbformat": 4,
 "nbformat_minor": 2
}
