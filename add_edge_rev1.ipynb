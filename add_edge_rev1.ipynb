{
 "cells": [
  {
   "cell_type": "code",
   "execution_count": 4,
   "id": "a07e210e",
   "metadata": {},
   "outputs": [],
   "source": [
    "import matplotlib as plt \n",
    "import numpy as np \n",
    "from matplotlib import colors\n",
    "from PIL import Image, ImageDraw\n",
    "import random\n",
    "import pandas as pd\n",
    "from collections import defaultdict\n",
    "import random\n",
    "import copy"
   ]
  },
  {
   "cell_type": "code",
   "execution_count": 5,
   "id": "3338e503",
   "metadata": {},
   "outputs": [],
   "source": [
    "def createList(r1, r2):\n",
    "        if (r1 == r2):\n",
    "            return r1\n",
    "        else:\n",
    "            res = []\n",
    "            while(r1 < r2+1 ):\n",
    "                res.append(r1)\n",
    "                r1 += 1\n",
    "        return res "
   ]
  },
  {
   "cell_type": "code",
   "execution_count": 8,
   "id": "4fe102e8",
   "metadata": {},
   "outputs": [],
   "source": [
    "from copy import copy\n",
    "\n",
    "\n",
    "class Graph():\n",
    "    \n",
    "    def __init__(self):\n",
    "        \n",
    "        #create graph\n",
    "        self.graph = {}\n",
    "        for i in range(1,51):\n",
    "            if i-1 == 0:\n",
    "                self.graph[i] = [2, 50]\n",
    "            elif i+1 == 51:\n",
    "                self.graph[i] = [1, 49]\n",
    "            else:\n",
    "                self.graph[i] = [i+1, i-1]\n",
    "        \n",
    "        #create list of nodes\n",
    "        self.nodes = createList(1, 50)\n",
    "                \n",
    "    def addEdge(self):\n",
    "        boo1 = True\n",
    "        while boo1:\n",
    "            if len(self.nodes) == 0:\n",
    "                boo1 = False\n",
    "                break\n",
    "            val = random.choice(self.nodes)\n",
    "            self.nodes.remove(val)\n",
    "            val_nodes = createList(val-5, val+5)\n",
    "            val_nodes.remove(val-1)\n",
    "            val_nodes.remove(val+1)\n",
    "            boo2 = False\n",
    "            while len(val_nodes) > 0:\n",
    "                newnode = random.choice(val_nodes)\n",
    "                temp_newnode = copy(newnode)\n",
    "                if temp_newnode <= 0:\n",
    "                    temp_newnode = 50+temp_newnode\n",
    "                elif temp_newnode > 50:\n",
    "                    temp_newnode = temp_newnode-50\n",
    "                if temp_newnode in self.nodes:\n",
    "                    self.nodes.remove(temp_newnode)\n",
    "                    self.graph[val].append(temp_newnode)\n",
    "                    self.graph[temp_newnode].append(val)\n",
    "                    boo2 = True\n",
    "                    break\n",
    "                else:\n",
    "                    val_nodes.remove(newnode)\n",
    "                    \n",
    "            if boo2:\n",
    "                break\n",
    "        if boo1 == False:\n",
    "            return False\n",
    "        else:\n",
    "            return True"
   ]
  },
  {
   "cell_type": "code",
   "execution_count": 9,
   "id": "90e7f018",
   "metadata": {},
   "outputs": [
    {
     "name": "stdout",
     "output_type": "stream",
     "text": [
      "{1: [2, 50], 2: [3, 1], 3: [4, 2], 4: [5, 3], 5: [6, 4], 6: [7, 5], 7: [8, 6], 8: [9, 7], 9: [10, 8], 10: [11, 9], 11: [12, 10], 12: [13, 11], 13: [14, 12], 14: [15, 13], 15: [16, 14], 16: [17, 15], 17: [18, 16], 18: [19, 17], 19: [20, 18], 20: [21, 19], 21: [22, 20], 22: [23, 21], 23: [24, 22], 24: [25, 23], 25: [26, 24], 26: [27, 25], 27: [28, 26], 28: [29, 27], 29: [30, 28], 30: [31, 29], 31: [32, 30], 32: [33, 31], 33: [34, 32], 34: [35, 33], 35: [36, 34], 36: [37, 35], 37: [38, 36], 38: [39, 37], 39: [40, 38], 40: [41, 39], 41: [42, 40], 42: [43, 41], 43: [44, 42], 44: [45, 43], 45: [46, 44], 46: [47, 45], 47: [48, 46], 48: [49, 47], 49: [50, 48], 50: [1, 49]}\n",
      "\n",
      "{1: [2, 50, 48], 2: [3, 1, 4], 3: [4, 2, 50], 4: [5, 3, 2], 5: [6, 4, 10], 6: [7, 5, 9], 7: [8, 6, 12], 8: [9, 7, 13], 9: [10, 8, 6], 10: [11, 9, 5], 11: [12, 10, 14], 12: [13, 11, 7], 13: [14, 12, 8], 14: [15, 13, 11], 15: [16, 14, 17], 16: [17, 15, 20], 17: [18, 16, 15], 18: [19, 17, 23], 19: [20, 18, 21], 20: [21, 19, 16], 21: [22, 20, 19], 22: [23, 21, 24], 23: [24, 22, 18], 24: [25, 23, 22], 25: [26, 24, 27], 26: [27, 25, 29], 27: [28, 26, 25], 28: [29, 27], 29: [30, 28, 26], 30: [31, 29, 32], 31: [32, 30, 33], 32: [33, 31, 30], 33: [34, 32, 31], 34: [35, 33, 38], 35: [36, 34, 37], 36: [37, 35, 40], 37: [38, 36, 35], 38: [39, 37, 34], 39: [40, 38, 42], 40: [41, 39, 36], 41: [42, 40, 44], 42: [43, 41, 39], 43: [44, 42, 47], 44: [45, 43, 41], 45: [46, 44], 46: [47, 45, 49], 47: [48, 46, 43], 48: [49, 47, 1], 49: [50, 48, 46], 50: [1, 49, 3]}\n"
     ]
    }
   ],
   "source": [
    "g = Graph()\n",
    "print(g.graph)\n",
    "print()\n",
    "\n",
    "graph = g.addEdge()\n",
    "while graph:\n",
    "    graph = g.addEdge()\n",
    "    \n",
    "print(g.graph)"
   ]
  },
  {
   "cell_type": "code",
   "execution_count": null,
   "id": "33bd60aa",
   "metadata": {},
   "outputs": [],
   "source": []
  }
 ],
 "metadata": {
  "kernelspec": {
   "display_name": "Python 3.7.9 64-bit",
   "language": "python",
   "name": "python3"
  },
  "language_info": {
   "codemirror_mode": {
    "name": "ipython",
    "version": 3
   },
   "file_extension": ".py",
   "mimetype": "text/x-python",
   "name": "python",
   "nbconvert_exporter": "python",
   "pygments_lexer": "ipython3",
   "version": "3.7.9"
  },
  "vscode": {
   "interpreter": {
    "hash": "ae29fcfd9f255b8a51a223fdbafa9bf003a656bad6efeac0214af2ca8c231db5"
   }
  }
 },
 "nbformat": 4,
 "nbformat_minor": 5
}
